{
  "cells": [
    {
      "cell_type": "markdown",
      "metadata": {
        "id": "7KlCX7l0QoXD"
      },
      "source": [
        "### Data Importation"
      ]
    },
    {
      "cell_type": "code",
      "execution_count": 1,
      "metadata": {
        "id": "aHHT1u8NPd3h"
      },
      "outputs": [],
      "source": [
        "import pandas as pd\n",
        "train_df = pd.read_csv('/content/train_dataset.csv')\n",
        "test_df = pd.read_csv('/content/test_dataset.csv')\n",
        "validation_df = pd.read_csv('/content/valid_dataset.csv')"
      ]
    },
    {
      "cell_type": "code",
      "execution_count": 3,
      "metadata": {
        "colab": {
          "base_uri": "https://localhost:8080/"
        },
        "id": "dU7RKFOU1Y5A",
        "outputId": "73733c83-1705-426b-e8b4-b0471952e0da"
      },
      "outputs": [
        {
          "output_type": "execute_result",
          "data": {
            "text/plain": [
              "Index(['text', 'anger', 'anticipation', 'disgust', 'fear', 'joy', 'love',\n",
              "       'optimism', 'pessimism', 'sadness', 'surprise', 'trust'],\n",
              "      dtype='object')"
            ]
          },
          "metadata": {},
          "execution_count": 3
        }
      ],
      "source": [
        "train_df.columns"
      ]
    },
    {
      "cell_type": "markdown",
      "metadata": {
        "id": "zeiEzdzPx5o_"
      },
      "source": [
        "### **Data preparation**"
      ]
    },
    {
      "cell_type": "code",
      "execution_count": 2,
      "metadata": {
        "id": "1n2EeQb3x8hn"
      },
      "outputs": [],
      "source": [
        "import numpy as np\n",
        "MAX_LENGTH = 64\n",
        "X_train_input_ids = np.zeros((len(train_df), MAX_LENGTH))\n",
        "X_train_attn_masks = np.zeros((len(train_df), MAX_LENGTH))\n",
        "\n",
        "X_test_input_ids = np.zeros((len(test_df), MAX_LENGTH))\n",
        "X_test_attn_masks = np.zeros((len(test_df), MAX_LENGTH))\n",
        "\n",
        "X_validation_input_ids = np.zeros((len(validation_df), MAX_LENGTH))\n",
        "X_validation_attn_masks = np.zeros((len(validation_df), MAX_LENGTH))"
      ]
    },
    {
      "cell_type": "code",
      "execution_count": 3,
      "metadata": {
        "id": "mTX8XtIIyinA"
      },
      "outputs": [],
      "source": [
        "from tqdm import tqdm\n",
        "\n",
        "def generate_data(df, ids, masks, tokenizer):\n",
        "    for i, text in tqdm(enumerate(df['text'])):\n",
        "        tokenized_text = tokenizer.encode_plus(\n",
        "            text,\n",
        "            max_length=MAX_LENGTH, \n",
        "            truncation=True, \n",
        "            padding='max_length', \n",
        "            add_special_tokens=True,\n",
        "            return_tensors='tf'\n",
        "        )\n",
        "        ids[i, :] = tokenized_text.input_ids\n",
        "        masks[i, :] = tokenized_text.attention_mask\n",
        "    return ids, masks"
      ]
    },
    {
      "cell_type": "code",
      "execution_count": 4,
      "metadata": {
        "id": "zjlI2dZKyuJY"
      },
      "outputs": [],
      "source": [
        "!pip install transformers -q\n",
        "from transformers import BertTokenizerFast\n",
        "tokenizer = BertTokenizerFast.from_pretrained(\"aubmindlab/bert-large-arabertv02-twitter\")"
      ]
    },
    {
      "cell_type": "code",
      "execution_count": 5,
      "metadata": {
        "colab": {
          "base_uri": "https://localhost:8080/"
        },
        "id": "gRWkxvMZyyIQ",
        "outputId": "d122f27f-4d68-437b-f378-412038bf82fd"
      },
      "outputs": [
        {
          "output_type": "stream",
          "name": "stderr",
          "text": [
            "2257it [00:04, 453.65it/s] \n",
            "1507it [00:00, 2500.05it/s]\n",
            "580it [00:00, 2515.27it/s]\n"
          ]
        }
      ],
      "source": [
        "X_train_input_ids, X_train_attn_masks = generate_data(train_df, X_train_input_ids, X_train_attn_masks, tokenizer) \n",
        "\n",
        "X_test_input_ids, X_test_attn_masks = generate_data(test_df, X_test_input_ids, X_test_attn_masks, tokenizer) \n",
        "\n",
        "X_validation_input_ids, X_validation_attn_masks = generate_data(validation_df, X_validation_input_ids, X_validation_attn_masks, tokenizer) "
      ]
    },
    {
      "cell_type": "code",
      "execution_count": null,
      "metadata": {
        "colab": {
          "base_uri": "https://localhost:8080/"
        },
        "id": "WqxoIjxvt7_s",
        "outputId": "18b2ea1f-53bc-4fa8-c222-23508bec5476"
      },
      "outputs": [
        {
          "data": {
            "text/plain": [
              "array([[2.0000e+00, 1.8440e+03, 8.8000e+02, ..., 0.0000e+00, 0.0000e+00,\n",
              "        0.0000e+00],\n",
              "       [2.0000e+00, 4.5900e+02, 2.4276e+04, ..., 0.0000e+00, 0.0000e+00,\n",
              "        0.0000e+00],\n",
              "       [2.0000e+00, 2.9031e+04, 2.7083e+04, ..., 0.0000e+00, 0.0000e+00,\n",
              "        0.0000e+00],\n",
              "       ...,\n",
              "       [2.0000e+00, 1.9550e+03, 7.2410e+03, ..., 0.0000e+00, 0.0000e+00,\n",
              "        0.0000e+00],\n",
              "       [2.0000e+00, 2.2949e+04, 6.6900e+02, ..., 0.0000e+00, 0.0000e+00,\n",
              "        0.0000e+00],\n",
              "       [2.0000e+00, 1.6038e+04, 2.0900e+02, ..., 0.0000e+00, 0.0000e+00,\n",
              "        0.0000e+00]])"
            ]
          },
          "execution_count": 7,
          "metadata": {},
          "output_type": "execute_result"
        }
      ],
      "source": [
        "X_train_input_ids"
      ]
    },
    {
      "cell_type": "code",
      "execution_count": 6,
      "metadata": {
        "id": "EoWvn1zzzOFu"
      },
      "outputs": [],
      "source": [
        "train_labels = np.zeros((len(train_df), 11))\n",
        "test_labels = np.zeros((len(test_df), 11))\n",
        "validation_labels = np.zeros((len(validation_df), 11))"
      ]
    },
    {
      "cell_type": "code",
      "execution_count": 7,
      "metadata": {
        "id": "NeHHOIKhzYUZ"
      },
      "outputs": [],
      "source": [
        "labels_names = ['anger', 'anticipation', 'disgust', 'fear', 'joy', 'love', 'optimism', 'pessimism', 'sadness', 'surprise', 'trust']  \n",
        "train_labels = train_df[labels_names].values.astype('int8')\n",
        "test_labels = test_df[labels_names].values.astype('int8')\n",
        "validation_labels = validation_df[labels_names].values.astype('int8')"
      ]
    },
    {
      "cell_type": "code",
      "execution_count": null,
      "metadata": {
        "colab": {
          "base_uri": "https://localhost:8080/"
        },
        "id": "dG-u3qbYuAB4",
        "outputId": "e4bcddf4-3597-45db-a9a2-9f96665e0f3e"
      },
      "outputs": [
        {
          "data": {
            "text/plain": [
              "array([[1, 0, 0, ..., 1, 0, 0],\n",
              "       [0, 0, 0, ..., 0, 0, 0],\n",
              "       [0, 0, 0, ..., 0, 0, 0],\n",
              "       ...,\n",
              "       [1, 0, 0, ..., 0, 0, 0],\n",
              "       [0, 0, 0, ..., 0, 0, 1],\n",
              "       [0, 0, 0, ..., 1, 0, 0]], dtype=int8)"
            ]
          },
          "execution_count": 10,
          "metadata": {},
          "output_type": "execute_result"
        }
      ],
      "source": [
        "train_labels"
      ]
    },
    {
      "cell_type": "code",
      "execution_count": 8,
      "metadata": {
        "id": "p695zerLzawI"
      },
      "outputs": [],
      "source": [
        "import tensorflow as tf\n",
        "# creating a data pipeline using tensorflow dataset utility, creates batches of data for easy loading...\n",
        "train_dataset = tf.data.Dataset.from_tensor_slices((X_train_input_ids, X_train_attn_masks, train_labels))\n",
        "test_dataset = tf.data.Dataset.from_tensor_slices((X_test_input_ids, X_test_attn_masks, test_labels))\n",
        "validation_dataset = tf.data.Dataset.from_tensor_slices((X_validation_input_ids, X_validation_attn_masks, validation_labels))"
      ]
    },
    {
      "cell_type": "code",
      "execution_count": 9,
      "metadata": {
        "id": "EW173fefzayq"
      },
      "outputs": [],
      "source": [
        "def SentimentDatasetMapFunction(input_ids, attn_masks, labels):\n",
        "    return {\n",
        "        'input_ids': input_ids,\n",
        "        'attention_mask': attn_masks\n",
        "    }, labels"
      ]
    },
    {
      "cell_type": "code",
      "execution_count": 10,
      "metadata": {
        "id": "RjVf2wgGza15"
      },
      "outputs": [],
      "source": [
        "BATCH_SIZE = 32\n",
        "train_dataset = train_dataset.map(SentimentDatasetMapFunction) # converting to required format for tensorflow dataset \n",
        "train_dataset = train_dataset.shuffle(10000).batch(BATCH_SIZE, drop_remainder=True) # batch size, drop any left out tensor\n",
        "validation_dataset = validation_dataset.map(SentimentDatasetMapFunction)\n",
        "validation_dataset = validation_dataset.shuffle(10000).batch(BATCH_SIZE, drop_remainder=True)\n",
        "test_dataset = test_dataset.map(SentimentDatasetMapFunction)\n",
        "test_dataset = test_dataset.shuffle(10000).batch(BATCH_SIZE, drop_remainder=False)"
      ]
    },
    {
      "cell_type": "markdown",
      "metadata": {
        "id": "Uz9Wsz8szos0"
      },
      "source": [
        "### **Model**"
      ]
    },
    {
      "cell_type": "code",
      "execution_count": 11,
      "metadata": {
        "colab": {
          "base_uri": "https://localhost:8080/"
        },
        "id": "z1omsVMMzn6m",
        "outputId": "7e34e9f8-3d64-4cb1-e2cd-2e3c6fadb62a"
      },
      "outputs": [
        {
          "output_type": "stream",
          "name": "stderr",
          "text": [
            "Some weights of the PyTorch model were not used when initializing the TF 2.0 model TFBertModel: ['cls.predictions.decoder.weight', 'cls.predictions.transform.LayerNorm.bias', 'cls.predictions.transform.dense.weight', 'cls.predictions.bias', 'cls.predictions.transform.LayerNorm.weight', 'bert.embeddings.position_ids', 'cls.predictions.decoder.bias', 'cls.predictions.transform.dense.bias']\n",
            "- This IS expected if you are initializing TFBertModel from a PyTorch model trained on another task or with another architecture (e.g. initializing a TFBertForSequenceClassification model from a BertForPreTraining model).\n",
            "- This IS NOT expected if you are initializing TFBertModel from a PyTorch model that you expect to be exactly identical (e.g. initializing a TFBertForSequenceClassification model from a BertForSequenceClassification model).\n",
            "Some weights or buffers of the TF 2.0 model TFBertModel were not initialized from the PyTorch model and are newly initialized: ['bert.pooler.dense.weight', 'bert.pooler.dense.bias']\n",
            "You should probably TRAIN this model on a down-stream task to be able to use it for predictions and inference.\n"
          ]
        }
      ],
      "source": [
        "from transformers import TFBertModel\n",
        "model = TFBertModel.from_pretrained(\"aubmindlab/bert-large-arabertv02-twitter\", from_pt=True) # bert base model with pretrained weights"
      ]
    },
    {
      "cell_type": "code",
      "execution_count": 12,
      "metadata": {
        "id": "MjU6TE5mz-Jh"
      },
      "outputs": [],
      "source": [
        "# defining 2 input layers for input_ids and attn_masks\n",
        "input_ids = tf.keras.layers.Input(shape=(MAX_LENGTH,), name='input_ids', dtype='int32')\n",
        "attn_masks = tf.keras.layers.Input(shape=(MAX_LENGTH,), name='attention_mask', dtype='int32')"
      ]
    },
    {
      "cell_type": "code",
      "execution_count": 13,
      "metadata": {
        "id": "QbHrgZ-4z_1L"
      },
      "outputs": [],
      "source": [
        "bert_embds = model.bert(input_ids, attention_mask=attn_masks)[1] # 0 -> activation layer (3D), 1 -> pooled output layer (2D)\n",
        "# base = model.bert(input_ids, attention_mask=attn_masks)\n",
        "# bert_embds = base.pooler_output"
      ]
    },
    {
      "cell_type": "code",
      "execution_count": 14,
      "metadata": {
        "id": "a91NYyy20DWU"
      },
      "outputs": [],
      "source": [
        "intermediate_layer = tf.keras.layers.Dense(64, activation='relu', name='intermediate_layer')(bert_embds)\n",
        "output_layer = tf.keras.layers.Dense(11, activation='sigmoid', name='output_layer')(intermediate_layer) # softmax -> calcs probs of classes"
      ]
    },
    {
      "cell_type": "code",
      "execution_count": 15,
      "metadata": {
        "colab": {
          "base_uri": "https://localhost:8080/"
        },
        "id": "RrJ-LQxj0E-g",
        "outputId": "aa863db5-78f5-4b1f-f497-88df23037c8a"
      },
      "outputs": [
        {
          "output_type": "stream",
          "name": "stdout",
          "text": [
            "Model: \"model\"\n",
            "__________________________________________________________________________________________________\n",
            " Layer (type)                   Output Shape         Param #     Connected to                     \n",
            "==================================================================================================\n",
            " input_ids (InputLayer)         [(None, 64)]         0           []                               \n",
            "                                                                                                  \n",
            " attention_mask (InputLayer)    [(None, 64)]         0           []                               \n",
            "                                                                                                  \n",
            " bert (TFBertMainLayer)         TFBaseModelOutputWi  369423360   ['input_ids[0][0]',              \n",
            "                                thPoolingAndCrossAt               'attention_mask[0][0]']         \n",
            "                                tentions(last_hidde                                               \n",
            "                                n_state=(None, 64,                                                \n",
            "                                1024),                                                            \n",
            "                                 pooler_output=(Non                                               \n",
            "                                e, 1024),                                                         \n",
            "                                 past_key_values=No                                               \n",
            "                                ne, hidden_states=N                                               \n",
            "                                one, attentions=Non                                               \n",
            "                                e, cross_attentions                                               \n",
            "                                =None)                                                            \n",
            "                                                                                                  \n",
            " intermediate_layer (Dense)     (None, 64)           65600       ['bert[0][1]']                   \n",
            "                                                                                                  \n",
            " output_layer (Dense)           (None, 11)           715         ['intermediate_layer[0][0]']     \n",
            "                                                                                                  \n",
            "==================================================================================================\n",
            "Total params: 369,489,675\n",
            "Trainable params: 369,489,675\n",
            "Non-trainable params: 0\n",
            "__________________________________________________________________________________________________\n"
          ]
        }
      ],
      "source": [
        "emotion_model = tf.keras.Model(inputs=[input_ids, attn_masks], outputs=output_layer)\n",
        "emotion_model.summary()"
      ]
    },
    {
      "cell_type": "markdown",
      "metadata": {
        "id": "u7D6vua50RIW"
      },
      "source": [
        "### **Train**"
      ]
    },
    {
      "cell_type": "markdown",
      "metadata": {
        "id": "6exkugNtu_ux"
      },
      "source": [
        "Without scheduler"
      ]
    },
    {
      "cell_type": "code",
      "execution_count": 16,
      "metadata": {
        "id": "Gw90hhhX0QSc"
      },
      "outputs": [],
      "source": [
        "optim = tf.keras.optimizers.Adam(learning_rate=2e-5)\n",
        "loss_func = tf.keras.losses.BinaryCrossentropy()"
      ]
    },
    {
      "cell_type": "code",
      "execution_count": 17,
      "metadata": {
        "id": "ZWKJla8G0W43"
      },
      "outputs": [],
      "source": [
        "emotion_model.compile(optimizer=optim, loss=loss_func)"
      ]
    },
    {
      "cell_type": "markdown",
      "metadata": {
        "id": "Z20Ge8yKu0Ll"
      },
      "source": [
        "with early stopping"
      ]
    },
    {
      "cell_type": "code",
      "execution_count": 18,
      "metadata": {
        "colab": {
          "base_uri": "https://localhost:8080/"
        },
        "id": "lrbgb96l0X-t",
        "outputId": "ad604311-50cb-4273-fd16-dde27d9d0e08"
      },
      "outputs": [
        {
          "output_type": "stream",
          "name": "stdout",
          "text": [
            "Epoch 1/20\n",
            "70/70 [==============================] - 206s 1s/step - loss: 0.3940 - val_loss: 0.3011\n",
            "Epoch 2/20\n",
            "70/70 [==============================] - 98s 1s/step - loss: 0.2668 - val_loss: 0.2693\n",
            "Epoch 3/20\n",
            "70/70 [==============================] - 95s 1s/step - loss: 0.2201 - val_loss: 0.2633\n",
            "Epoch 4/20\n",
            "70/70 [==============================] - 95s 1s/step - loss: 0.1865 - val_loss: 0.2614\n",
            "Epoch 5/20\n",
            "70/70 [==============================] - 95s 1s/step - loss: 0.1596 - val_loss: 0.2669\n",
            "Epoch 6/20\n",
            "70/70 [==============================] - 95s 1s/step - loss: 0.1317 - val_loss: 0.2712\n",
            "Epoch 7/20\n",
            "70/70 [==============================] - 95s 1s/step - loss: 0.1079 - val_loss: 0.2772\n"
          ]
        }
      ],
      "source": [
        "NUM_EPOCHS = 20\n",
        "\n",
        "# Define the early stopping callback\n",
        "early_stopping_callback = tf.keras.callbacks.EarlyStopping(monitor='val_loss', patience=3)\n",
        "\n",
        "with tf.device('/GPU:0'):\n",
        "  history = emotion_model.fit(\n",
        "      train_dataset,\n",
        "      validation_data=validation_dataset,\n",
        "      epochs=NUM_EPOCHS,\n",
        "      callbacks=[early_stopping_callback]\n",
        "  )"
      ]
    },
    {
      "cell_type": "code",
      "execution_count": 19,
      "metadata": {
        "colab": {
          "base_uri": "https://localhost:8080/"
        },
        "id": "iFR_IYp-GF8k",
        "outputId": "f4230206-b711-4033-a9b3-f9261ec62b7a"
      },
      "outputs": [
        {
          "output_type": "stream",
          "name": "stdout",
          "text": [
            "48/48 [==============================] - 28s 438ms/step\n"
          ]
        }
      ],
      "source": [
        "from sklearn.metrics import jaccard_score\n",
        "\n",
        "# Generate predictions on test set\n",
        "test_preds = emotion_model.predict([X_test_input_ids, X_test_attn_masks])\n",
        "test_preds[test_preds >= 0.5] = 1\n",
        "test_preds[test_preds < 0.5] = 0"
      ]
    },
    {
      "cell_type": "code",
      "execution_count": 20,
      "metadata": {
        "colab": {
          "base_uri": "https://localhost:8080/"
        },
        "id": "lLEJKwesIx-E",
        "outputId": "4ba2d8ee-4287-489f-f944-f83e4b1cb1ea"
      },
      "outputs": [
        {
          "output_type": "stream",
          "name": "stdout",
          "text": [
            "Jaccard index: 0.5612256211670127\n"
          ]
        }
      ],
      "source": [
        "# Compute Jaccard index\n",
        "jaccard_index = jaccard_score(test_labels, test_preds, average='weighted')\n",
        "\n",
        "print('Jaccard index:', jaccard_index)"
      ]
    },
    {
      "cell_type": "code",
      "execution_count": 21,
      "metadata": {
        "colab": {
          "base_uri": "https://localhost:8080/",
          "height": 472
        },
        "id": "KYmA9W8A_LJo",
        "outputId": "b64db3a8-1684-431a-da77-cef97de789d9"
      },
      "outputs": [
        {
          "output_type": "display_data",
          "data": {
            "text/plain": [
              "<Figure size 640x480 with 1 Axes>"
            ],
            "image/png": "[encoded data removed]"
          },
          "metadata": {}
        }
      ],
      "source": [
        "from matplotlib import pyplot as plt\n",
        "\n",
        "plt.plot(history.history['loss'])\n",
        "plt.plot(history.history['val_loss'])\n",
        "plt.title('model loss')\n",
        "plt.ylabel('loss')\n",
        "plt.xlabel('epoch')\n",
        "plt.legend(['train', 'val'], loc='upper left')\n",
        "plt.show()"
      ]
    },
    {
      "cell_type": "code",
      "source": [
        "from google.colab import drive\n",
        "drive.mount('/content/drive')"
      ],
      "metadata": {
        "colab": {
          "base_uri": "https://localhost:8080/"
        },
        "id": "jfdATH7SDQrK",
        "outputId": "009c3094-41dc-430d-edcc-f214fcc7aded"
      },
      "execution_count": 22,
      "outputs": [
        {
          "output_type": "stream",
          "name": "stdout",
          "text": [
            "Drive already mounted at /content/drive; to attempt to forcibly remount, call drive.mount(\"/content/drive\", force_remount=True).\n"
          ]
        }
      ]
    },
    {
      "cell_type": "code",
      "execution_count": 41,
      "metadata": {
        "id": "C1CeGu6nAOdM"
      },
      "outputs": [],
      "source": [
        "# Save the model as an H5 file\n",
        "emotion_model.save('emotion_model.h5')"
      ]
    },
    {
      "cell_type": "code",
      "execution_count": 28,
      "metadata": {
        "colab": {
          "base_uri": "https://localhost:8080/"
        },
        "id": "r4Q58KDQP5Bq",
        "outputId": "dc496ece-6ec0-42a9-c9ba-13c91974d0f4"
      },
      "outputs": [
        {
          "output_type": "stream",
          "name": "stdout",
          "text": [
            "1/1 [==============================] - 0s 119ms/step\n",
            "Example 1:\n",
            "Input Text: أنا سعيد جدًا بالنجاح الذي حققته في عملي، وأشعر بالتفاؤل للمستقبل.\n",
            "Predicted Labels: ['joy' 'optimism']\n",
            "1/1 [==============================] - 0s 120ms/step\n",
            "Example 2:\n",
            "Input Text: أشعر بالخوف والحزن بسبب الوضع الراهن والتحديات التي نواجهها.\n",
            "Predicted Labels: ['fear' 'sadness']\n",
            "1/1 [==============================] - 0s 128ms/step\n",
            "Example 3:\n",
            "Input Text: لم يكن العمل بالنسبة لي مجرد وظيفة، بل كان يمثل شغفي وحبي.\n",
            "Predicted Labels: ['love' 'trust']\n",
            "1/1 [==============================] - 0s 99ms/step\n",
            "Example 4:\n",
            "Input Text: شعرت بالاشمئزاز من تصرفات بعض الأشخاص وسلوكهم السيء.\n",
            "Predicted Labels: ['anger' 'disgust' 'pessimism' 'sadness']\n",
            "1/1 [==============================] - 0s 135ms/step\n",
            "Example 5:\n",
            "Input Text: أنا متحمس للاحتفال بعيد ميلادي الذي سيحل قريبًا وأشعر بالفرحة.\n",
            "Predicted Labels: ['joy' 'love' 'optimism']\n",
            "1/1 [==============================] - 0s 169ms/step\n",
            "Example 6:\n",
            "Input Text: أنا أحب عائلتي وأقدر الحب الذي يبادلوني إياه.\n",
            "Predicted Labels: ['joy' 'love']\n",
            "1/1 [==============================] - 0s 198ms/step\n",
            "Example 7:\n",
            "Input Text: كنت مترددًا في بداية الأمر لكني الآن أشعر بالثقة والتفاؤل لتحقيق الهدف.\n",
            "Predicted Labels: ['optimism']\n",
            "1/1 [==============================] - 0s 138ms/step\n",
            "Example 8:\n",
            "Input Text: أشعر بالغضب بسبب الظلم الذي يتعرض له بعض الأفراد في المجتمع.\n",
            "Predicted Labels: ['anger' 'sadness']\n",
            "1/1 [==============================] - 0s 180ms/step\n",
            "Example 9:\n",
            "Input Text: شعرت بالدهشة عندما سمعت الخبر السار والذي لم أكن أتوقعه.\n",
            "Predicted Labels: ['joy']\n",
            "1/1 [==============================] - 0s 181ms/step\n",
            "Example 10:\n",
            "Input Text: أنا متأكد من صدق ووفاء صديقي العزيز وأشعر بالثقة تجاهه.\n",
            "Predicted Labels: ['love' 'optimism' 'trust']\n"
          ]
        }
      ],
      "source": [
        "import numpy as np\n",
        "\n",
        "# Define Arabic text examples\n",
        "arabic_examples = [\n",
        "    'أنا سعيد جدًا بالنجاح الذي حققته في عملي، وأشعر بالتفاؤل للمستقبل.',\n",
        "    'أشعر بالخوف والحزن بسبب الوضع الراهن والتحديات التي نواجهها.',\n",
        "    'لم يكن العمل بالنسبة لي مجرد وظيفة، بل كان يمثل شغفي وحبي.',\n",
        "    'شعرت بالاشمئزاز من تصرفات بعض الأشخاص وسلوكهم السيء.',\n",
        "    'أنا متحمس للاحتفال بعيد ميلادي الذي سيحل قريبًا وأشعر بالفرحة.',\n",
        "    'أنا أحب عائلتي وأقدر الحب الذي يبادلوني إياه.',\n",
        "    'كنت مترددًا في بداية الأمر لكني الآن أشعر بالثقة والتفاؤل لتحقيق الهدف.',\n",
        "    'أشعر بالغضب بسبب الظلم الذي يتعرض له بعض الأفراد في المجتمع.',\n",
        "    'شعرت بالدهشة عندما سمعت الخبر السار والذي لم أكن أتوقعه.',\n",
        "    'أنا متأكد من صدق ووفاء صديقي العزيز وأشعر بالثقة تجاهه.'\n",
        "]\n",
        "\n",
        "# Loop through Arabic examples and make predictions\n",
        "for i, text in enumerate(arabic_examples):\n",
        "    # Tokenize input sentence\n",
        "    tokenized_text = tokenizer.encode_plus(\n",
        "        text,\n",
        "        max_length=64, \n",
        "        truncation=True, \n",
        "        padding='max_length', \n",
        "        add_special_tokens=True,\n",
        "        return_tensors='tf'\n",
        "    )\n",
        "\n",
        "    # Get input_ids and attention_mask from tokenized text\n",
        "    input_ids = tokenized_text.input_ids\n",
        "    attention_mask = tokenized_text.attention_mask\n",
        "\n",
        "    # Make predictions on tokenized input\n",
        "    preds = emotion_model.predict({'input_ids': input_ids, 'attention_mask': attention_mask})\n",
        "\n",
        "    # Convert probabilities to binary predictions\n",
        "    binary_preds = (preds >= 0.5).astype(int)\n",
        "\n",
        "    # Get predicted labels\n",
        "    predicted_labels = np.array(labels_names)[binary_preds[0] == 1]\n",
        "\n",
        "    # Print predicted labels and expected labels for each example\n",
        "    print('Example {}:'.format(i+1))\n",
        "    print('Input Text: {}'.format(text))\n",
        "    print('Predicted Labels: {}'.format(predicted_labels))"
      ]
    }
  ],
  "metadata": {
    "accelerator": "GPU",
    "colab": {
      "machine_shape": "hm",
      "provenance": []
    },
    "gpuClass": "standard",
    "kernelspec": {
      "display_name": "Python 3",
      "language": "python",
      "name": "python3"
    },
    "language_info": {
      "codemirror_mode": {
        "name": "ipython",
        "version": 3
      },
      "file_extension": ".py",
      "mimetype": "text/x-python",
      "name": "python",
      "nbconvert_exporter": "python",
      "pygments_lexer": "ipython3",
      "version": "3.6.4"
    }
  },
  "nbformat": 4,
  "nbformat_minor": 0
}